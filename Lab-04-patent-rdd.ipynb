{
 "cells": [
  {
   "cell_type": "markdown",
   "metadata": {},
   "source": [
    "# CSCI 4253 / 5253 - Lab #4 - Patent Problem with Spark RDD\n",
    "<div>\n",
    " <h2> CSCI 4283 / 5253 \n",
    "  <IMG SRC=\"https://www.colorado.edu/cs/profiles/express/themes/cuspirit/logo.png\" WIDTH=50 ALIGN=\"right\"/> </h2>\n",
    "</div>"
   ]
  },
  {
   "cell_type": "markdown",
   "metadata": {},
   "source": [
    "This [Spark cheatsheet](https://s3.amazonaws.com/assets.datacamp.com/blog_assets/PySpark_SQL_Cheat_Sheet_Python.pdf) is useful"
   ]
  },
  {
   "cell_type": "code",
   "execution_count": 1,
   "metadata": {},
   "outputs": [],
   "source": [
    "from pyspark import SparkContext, SparkConf\n",
    "import numpy as np\n",
    "import operator"
   ]
  },
  {
   "cell_type": "code",
   "execution_count": 2,
   "metadata": {},
   "outputs": [],
   "source": [
    "conf=SparkConf().setAppName(\"Lab4-rddd\").setMaster(\"local[*]\")\n",
    "sc = SparkContext(conf=conf)"
   ]
  },
  {
   "cell_type": "markdown",
   "metadata": {},
   "source": [
    "Using PySpark and RDD's on the https://coding.csel.io machines is very slow -- most of the code is executed in Python and this is much less efficient than the java-based code using the PySpark dataframes. Be patient and trying using `.cache()` to cache the output of joins. You may want to start with a reduced set of data before running the full task.\n",
    "\n",
    "To that end, we've included code to just extract the last 200,000 lines of each file below using the Python \"slice\" notation. Using that subset of the data your \"new patent\" table should look like:\n",
    "\n",
    "![Top partial 10 RDD self-state citations](top-subsample-rdd.png)\n",
    "\n",
    "When you're ready to run the whole thing, just include all the data and run it again (...and wait...).\n",
    "\n",
    "These two RDD's are called \"rawCitations\" and \"rawPatents\" because you probably want to process them futher (e.g. convert them to integer types, etc). If you haven't used Python \"byte\" types before, google it. You can convert a byte variable `x` into e.g. a UTF8 string using `x.decode('uft-8')`."
   ]
  },
  {
   "cell_type": "code",
   "execution_count": 3,
   "metadata": {},
   "outputs": [],
   "source": [
    "import gzip\n",
    "with gzip.open('cite75_99.txt.gz', 'r') as f:\n",
    "    rddCitations = sc.parallelize( f.readlines()[-200000:] )"
   ]
  },
  {
   "cell_type": "code",
   "execution_count": 4,
   "metadata": {},
   "outputs": [],
   "source": [
    "with gzip.open('apat63_99.txt.gz', 'r') as f:\n",
    "    rddPatents = sc.parallelize( f.readlines()[-200000:] )"
   ]
  },
  {
   "cell_type": "markdown",
   "metadata": {},
   "source": [
    "# Transform the citations and the patents into (k, v) tuples\n",
    "\n",
    "#### k => Citing Number\n",
    "#### v => Cited Number (OR) Patent Information"
   ]
  },
  {
   "cell_type": "code",
   "execution_count": 5,
   "metadata": {},
   "outputs": [],
   "source": [
    "citations = rddCitations.map(lambda x: x.decode('utf-8')) \\\n",
    "                        .map(lambda x: x.rstrip()) \\\n",
    "                        .map(lambda x: x.split(',')) \\\n",
    "                        .map(lambda x: (x[0], x[1])) \\\n",
    "\n",
    "patents = rddPatents.map(lambda x: x.decode('utf-8')) \\\n",
    "                    .map(lambda x: x.rstrip()) \\\n",
    "                    .map(lambda x: x.split(',', 1)) \\\n",
    "                    .map(lambda x: (x[0], x[1].split(','))) \\\n",
    "\n",
    "# Get an RDD of Patent-State relationships\n",
    "states = patents.map(lambda x: (x[0], x[1][4])) \\\n",
    "                .filter(lambda x: x[1] != '\"\"')"
   ]
  },
  {
   "cell_type": "code",
   "execution_count": 6,
   "metadata": {},
   "outputs": [
    {
     "data": {
      "text/plain": [
       "[('5991301', '5394398'),\n",
       " ('5991301', '5414701'),\n",
       " ('5991301', '5418783'),\n",
       " ('5991301', '5420857'),\n",
       " ('5991301', '5420858')]"
      ]
     },
     "execution_count": 6,
     "metadata": {},
     "output_type": "execute_result"
    }
   ],
   "source": [
    "citations.take(5)"
   ]
  },
  {
   "cell_type": "code",
   "execution_count": 7,
   "metadata": {},
   "outputs": [
    {
     "data": {
      "text/plain": [
       "[('5807364', '\"WA\"'),\n",
       " ('5807365', '\"NJ\"'),\n",
       " ('5807366', '\"GA\"'),\n",
       " ('5807367', '\"WI\"'),\n",
       " ('5807368', '\"MN\"')]"
      ]
     },
     "execution_count": 7,
     "metadata": {},
     "output_type": "execute_result"
    }
   ],
   "source": [
    "states.take(5)"
   ]
  },
  {
   "cell_type": "code",
   "execution_count": 8,
   "metadata": {},
   "outputs": [
    {
     "data": {
      "text/plain": [
       "[('5807364',\n",
       "  ['1998',\n",
       "   '14137',\n",
       "   '1995',\n",
       "   '\"US\"',\n",
       "   '\"WA\"',\n",
       "   '625795',\n",
       "   '2',\n",
       "   '38',\n",
       "   '604',\n",
       "   '3',\n",
       "   '32',\n",
       "   '104',\n",
       "   '1',\n",
       "   '0.9423',\n",
       "   '0',\n",
       "   '0.8803',\n",
       "   '1',\n",
       "   '17.7308',\n",
       "   '0.1047',\n",
       "   '0.0865',\n",
       "   '1',\n",
       "   '1'])]"
      ]
     },
     "execution_count": 8,
     "metadata": {},
     "output_type": "execute_result"
    }
   ],
   "source": [
    "patents.take(1)"
   ]
  },
  {
   "cell_type": "markdown",
   "metadata": {},
   "source": [
    "# Get the number of costate citations per citing patent"
   ]
  },
  {
   "cell_type": "code",
   "execution_count": 43,
   "metadata": {},
   "outputs": [
    {
     "data": {
      "text/plain": [
       "[('6009541', 9),\n",
       " ('5999913', 7),\n",
       " ('6003285', 6),\n",
       " ('6006836', 5),\n",
       " ('5999540', 5),\n",
       " ('6003328', 5),\n",
       " ('6006835', 5),\n",
       " ('6009277', 4),\n",
       " ('5996023', 4),\n",
       " ('5994920', 4)]"
      ]
     },
     "execution_count": 43,
     "metadata": {},
     "output_type": "execute_result"
    }
   ],
   "source": [
    "citingState = citations.join(states) \\\n",
    "              .map(lambda x: (x[1][0], (x[0], x[1][1]))) \\\n",
    "              .join(states) \\\n",
    "              .map(lambda x: (x[1][0][0], (x[1][0][1], x[0], x[1][1]))) \\\n",
    "              .filter(lambda x: x[1][0] == x[1][2]) \\\n",
    "              .groupByKey() \\\n",
    "              .map(lambda x: (x[0], (len(x[1]))))\n",
    "\n",
    "\n",
    "\"\"\"\n",
    "For 2nd map:\n",
    "('5871279', (('5991652', '\"CA\"'), '\"CA\"'))\n",
    "x[0] = Cited Pat\n",
    "x[1] = ((Citing Pat, Citing State), Cited State)\n",
    "~~~~\n",
    "x[1][0][0] = Citing Pat\n",
    "x[1][0][1] = Citing State\n",
    "x[1][1] = Cited State\n",
    "\"\"\"\n",
    "\n",
    "citingState.take(10)"
   ]
  },
  {
   "cell_type": "markdown",
   "metadata": {},
   "source": [
    "# Join back to the original patents"
   ]
  },
  {
   "cell_type": "code",
   "execution_count": 81,
   "metadata": {},
   "outputs": [
    {
     "data": {
      "text/plain": [
       "['6009541,1999,14606,1997,\"US\",\"CA\",722315,2,,714,2,22,155,0,1,,0.8503,,2.6968,0.0132,0.0129,,,9',\n",
       " '5999913,1999,14585,1997,\"US\",\"GA\",395480,2,,705,2,22,16,0,1,,0.7344,,4.4375,0.5333,0.5,,,7',\n",
       " '6003285,1999,14599,1998,\"US\",\"IL\",720823,2,,53,6,68,71,0,0.8873,,0.5135,,10.6761,0.7414,0.6056,,,6',\n",
       " '5999540,1999,14585,1998,\"US\",\"TX\",739062,2,,370,2,21,93,0,1,,0.8024,,5.3011,0.0333,0.0323,,,5',\n",
       " '6003328,1999,14599,1999,\"US\",\"VA\",687394,2,,62,6,69,57,0,0.9298,,0.8494,,11.5965,0.4474,0.2982,,,5',\n",
       " '6006835,1999,14606,1998,\"US\",\"OK\",696774,2,,166,6,64,53,0,0.9811,,0.3972,,13.0189,0.1087,0.0943,,,5',\n",
       " '6006836,1999,14606,1998,\"US\",\"OK\",696774,2,,166,6,64,54,0,0.9815,,0.3909,,13.1667,0.1087,0.0926,,,5',\n",
       " '5996515,1999,14585,1999,\"US\",\"IA\",139275,2,,111,6,61,23,0,0.913,,0.6576,,20.6522,0.3846,0.2174,,,4',\n",
       " '5994920,1999,14578,1997,\"US\",\"MS\",132165,2,,326,4,46,70,0,1,,0.6273,,4.8857,0.1449,0.1429,,,4',\n",
       " '6009277,1999,14606,1998,\"US\",\"MA\",445890,2,,396,5,54,7,0,1,,0.2449,,9.7143,1,0.5714,,,4',\n",
       " '5996023,1999,14578,1998,\"US\",\"CA\",505285,2,,709,2,22,6,0,1,,0.4444,,0.6667,0.8,0.6667,,,4',\n",
       " '5993775,1999,14578,1998,\"US\",\"NH\",731588,2,,424,3,31,9,0,1,,0,,2.2222,0.5556,0.5556,,,4',\n",
       " '5991756,1999,14571,1997,\"US\",\"CA\",760902,2,,707,2,22,10,0,1,,0.18,,1.4,0,0,,,3',\n",
       " '5997421,1999,14585,1998,\"US\",\"CA\",,1,,473,6,62,3,0,1,,0.4444,,0.6667,,,,,3',\n",
       " '5991674,1999,14571,1996,\"US\",\"MI\",103580,2,,701,2,22,130,0,0.9615,,0.8813,,11.8538,0.0291,0.0231,,,3',\n",
       " '5999565,1999,14585,1997,\"US\",\"TX\",739062,2,,375,2,21,98,0,1,,0.7868,,5.602,0.0217,0.0204,,,3',\n",
       " '6003087,1999,14592,1997,\"US\",\"NC\",280070,2,,709,2,22,30,0,1,,0.72,,3.1667,0.4,0.4,,,3',\n",
       " '6006226,1999,14599,1997,\"US\",\"CA\",672689,3,,707,2,22,19,0,1,,0.7091,,2.2105,0.1765,0.1579,,,3',\n",
       " '5999976,1999,14585,1997,\"US\",\"CA\",280070,2,,709,2,22,21,0,1,,0.6485,,3.5714,0.7143,0.7143,,,3',\n",
       " '6009474,1999,14606,1997,\"US\",\"CA\",755619,2,,709,2,22,11,0,1,,0.314,,0.8182,0.1818,0.1818,,,3']"
      ]
     },
     "execution_count": 81,
     "metadata": {},
     "output_type": "execute_result"
    }
   ],
   "source": [
    "finalOutput = patents.join(citingState) \\\n",
    "              .map(lambda x: (\",\".join([x[0], \",\".join(x[1][0]), str(x[1][1])]))) \\\n",
    "              .sortBy(lambda x: x.split(',')[-1], ascending=False)\n",
    "\n",
    "finalOutput.take(20)"
   ]
  }
 ],
 "metadata": {
  "kernelspec": {
   "display_name": "Python 3",
   "language": "python",
   "name": "python3"
  },
  "language_info": {
   "codemirror_mode": {
    "name": "ipython",
    "version": 3
   },
   "file_extension": ".py",
   "mimetype": "text/x-python",
   "name": "python",
   "nbconvert_exporter": "python",
   "pygments_lexer": "ipython3",
   "version": "3.6.7"
  }
 },
 "nbformat": 4,
 "nbformat_minor": 2
}
